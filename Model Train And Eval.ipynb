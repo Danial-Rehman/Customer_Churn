{
 "cells": [
  {
   "cell_type": "code",
   "execution_count": 1,
   "id": "9a5ad42c",
   "metadata": {},
   "outputs": [
    {
     "name": "stdout",
     "output_type": "stream",
     "text": [
      "<class 'pandas.core.frame.DataFrame'>\n",
      "RangeIndex: 7043 entries, 0 to 7042\n",
      "Data columns (total 21 columns):\n",
      " #   Column            Non-Null Count  Dtype  \n",
      "---  ------            --------------  -----  \n",
      " 0   customerID        7043 non-null   object \n",
      " 1   gender            7043 non-null   object \n",
      " 2   SeniorCitizen     7043 non-null   int64  \n",
      " 3   Partner           7043 non-null   object \n",
      " 4   Dependents        7043 non-null   object \n",
      " 5   tenure            7043 non-null   int64  \n",
      " 6   PhoneService      7043 non-null   object \n",
      " 7   MultipleLines     7043 non-null   object \n",
      " 8   InternetService   7043 non-null   object \n",
      " 9   OnlineSecurity    7043 non-null   object \n",
      " 10  OnlineBackup      7043 non-null   object \n",
      " 11  DeviceProtection  7043 non-null   object \n",
      " 12  TechSupport       7043 non-null   object \n",
      " 13  StreamingTV       7043 non-null   object \n",
      " 14  StreamingMovies   7043 non-null   object \n",
      " 15  Contract          7043 non-null   object \n",
      " 16  PaperlessBilling  7043 non-null   object \n",
      " 17  PaymentMethod     7043 non-null   object \n",
      " 18  MonthlyCharges    7043 non-null   float64\n",
      " 19  TotalCharges      7043 non-null   object \n",
      " 20  Churn             7043 non-null   object \n",
      "dtypes: float64(1), int64(2), object(18)\n",
      "memory usage: 1.1+ MB\n"
     ]
    },
    {
     "data": {
      "image/png": "[encoded data removed]",
      "text/plain": [
       "<Figure size 640x480 with 1 Axes>"
      ]
     },
     "metadata": {},
     "output_type": "display_data"
    },
    {
     "name": "stdout",
     "output_type": "stream",
     "text": [
      "gender: ['Female' 'Male']\n",
      "SeniorCitizen: [0 1]\n",
      "Partner: ['Yes' 'No']\n",
      "Dependents: ['No' 'Yes']\n",
      "tenure: [ 1 34  2 45  8 22 10 28 62 13 16 58 49 25 69 52 71 21 12 30 47 72 17 27\n",
      "  5 46 11 70 63 43 15 60 18 66  9  3 31 50 64 56  7 42 35 48 29 65 38 68\n",
      " 32 55 37 36 41  6  4 33 67 23 57 61 14 20 53 40 59 24 44 19 54 51 26 39]\n",
      "PhoneService: ['No' 'Yes']\n",
      "MultipleLines: ['No phone service' 'No' 'Yes']\n",
      "InternetService: ['DSL' 'Fiber optic' 'No']\n",
      "OnlineSecurity: ['No' 'Yes' 'No internet service']\n",
      "OnlineBackup: ['Yes' 'No' 'No internet service']\n",
      "DeviceProtection: ['No' 'Yes' 'No internet service']\n",
      "TechSupport: ['No' 'Yes' 'No internet service']\n",
      "StreamingTV: ['No' 'Yes' 'No internet service']\n",
      "StreamingMovies: ['No' 'Yes' 'No internet service']\n",
      "Contract: ['Month-to-month' 'One year' 'Two year']\n",
      "PaperlessBilling: ['Yes' 'No']\n",
      "PaymentMethod: ['Electronic check' 'Mailed check' 'Bank transfer (automatic)'\n",
      " 'Credit card (automatic)']\n",
      "MonthlyCharges: [29.85 56.95 53.85 ... 63.1  44.2  78.7 ]\n",
      "TotalCharges: [  29.85 1889.5   108.15 ...  346.45  306.6  6844.5 ]\n",
      "Churn: ['No' 'Yes']\n"
     ]
    }
   ],
   "source": [
    "%run train_test.ipynb"
   ]
  },
  {
   "cell_type": "code",
   "execution_count": 2,
   "id": "66cebc9a",
   "metadata": {},
   "outputs": [
    {
     "data": {
      "text/plain": [
       "Index(['SeniorCitizen', 'Partner', 'Dependents', 'tenure', 'PhoneService',\n",
       "       'MultipleLines', 'OnlineSecurity', 'OnlineBackup', 'DeviceProtection',\n",
       "       'TechSupport', 'StreamingTV', 'StreamingMovies', 'PaperlessBilling',\n",
       "       'MonthlyCharges', 'TotalCharges', 'gender_Female', 'gender_Male',\n",
       "       'InternetService_DSL', 'InternetService_Fiber optic',\n",
       "       'InternetService_No', 'Contract_Month-to-month', 'Contract_One year',\n",
       "       'Contract_Two year', 'PaymentMethod_Bank transfer (automatic)',\n",
       "       'PaymentMethod_Credit card (automatic)',\n",
       "       'PaymentMethod_Electronic check', 'PaymentMethod_Mailed check'],\n",
       "      dtype='object')"
      ]
     },
     "execution_count": 2,
     "metadata": {},
     "output_type": "execute_result"
    }
   ],
   "source": [
    "X_train.columns"
   ]
  },
  {
   "cell_type": "code",
   "execution_count": 3,
   "id": "63c4c824",
   "metadata": {},
   "outputs": [],
   "source": [
    "from tensorflow.keras import Sequential ,layers"
   ]
  },
  {
   "cell_type": "code",
   "execution_count": 8,
   "id": "411d8da3",
   "metadata": {},
   "outputs": [],
   "source": [
    "model = Sequential([\n",
    "    layers.Dense(27,activation='relu'),\n",
    "    layers.Dense(1,activation='sigmoid')\n",
    "])"
   ]
  },
  {
   "cell_type": "code",
   "execution_count": 9,
   "id": "e75c9165",
   "metadata": {},
   "outputs": [],
   "source": [
    "model.compile(optimizer='rmsprop',\n",
    "             loss='binary_crossentropy',\n",
    "             metrics=['accuracy'])"
   ]
  },
  {
   "cell_type": "code",
   "execution_count": 10,
   "id": "69706c7c",
   "metadata": {
    "scrolled": true
   },
   "outputs": [
    {
     "name": "stdout",
     "output_type": "stream",
     "text": [
      "Epoch 1/200\n",
      "154/154 [==============================] - 1s 2ms/step - loss: 0.5071 - accuracy: 0.7477\n",
      "Epoch 2/200\n",
      "154/154 [==============================] - 0s 2ms/step - loss: 0.4325 - accuracy: 0.7855\n",
      "Epoch 3/200\n",
      "154/154 [==============================] - 0s 2ms/step - loss: 0.4238 - accuracy: 0.7920\n",
      "Epoch 4/200\n",
      "154/154 [==============================] - 0s 2ms/step - loss: 0.4198 - accuracy: 0.7985\n",
      "Epoch 5/200\n",
      "154/154 [==============================] - 0s 2ms/step - loss: 0.4180 - accuracy: 0.7960\n",
      "Epoch 6/200\n",
      "154/154 [==============================] - 0s 2ms/step - loss: 0.4167 - accuracy: 0.7980\n",
      "Epoch 7/200\n",
      "154/154 [==============================] - 0s 2ms/step - loss: 0.4159 - accuracy: 0.8007\n",
      "Epoch 8/200\n",
      "154/154 [==============================] - 0s 2ms/step - loss: 0.4144 - accuracy: 0.8015\n",
      "Epoch 9/200\n",
      "154/154 [==============================] - 0s 2ms/step - loss: 0.4131 - accuracy: 0.8068\n",
      "Epoch 10/200\n",
      "154/154 [==============================] - 0s 3ms/step - loss: 0.4134 - accuracy: 0.8039\n",
      "Epoch 11/200\n",
      "154/154 [==============================] - 0s 3ms/step - loss: 0.4125 - accuracy: 0.8039\n",
      "Epoch 12/200\n",
      "154/154 [==============================] - 0s 3ms/step - loss: 0.4111 - accuracy: 0.8056\n",
      "Epoch 13/200\n",
      "154/154 [==============================] - 0s 3ms/step - loss: 0.4105 - accuracy: 0.8050\n",
      "Epoch 14/200\n",
      "154/154 [==============================] - 0s 2ms/step - loss: 0.4102 - accuracy: 0.8054\n",
      "Epoch 15/200\n",
      "154/154 [==============================] - 0s 2ms/step - loss: 0.4088 - accuracy: 0.8115\n",
      "Epoch 16/200\n",
      "154/154 [==============================] - 0s 2ms/step - loss: 0.4089 - accuracy: 0.8068\n",
      "Epoch 17/200\n",
      "154/154 [==============================] - 0s 2ms/step - loss: 0.4078 - accuracy: 0.8064\n",
      "Epoch 18/200\n",
      "154/154 [==============================] - 0s 2ms/step - loss: 0.4069 - accuracy: 0.8080\n",
      "Epoch 19/200\n",
      "154/154 [==============================] - 0s 2ms/step - loss: 0.4066 - accuracy: 0.8052\n",
      "Epoch 20/200\n",
      "154/154 [==============================] - 0s 3ms/step - loss: 0.4061 - accuracy: 0.8100\n",
      "Epoch 21/200\n",
      "154/154 [==============================] - 0s 3ms/step - loss: 0.4056 - accuracy: 0.8098\n",
      "Epoch 22/200\n",
      "154/154 [==============================] - 0s 3ms/step - loss: 0.4053 - accuracy: 0.8106\n",
      "Epoch 23/200\n",
      "154/154 [==============================] - 0s 3ms/step - loss: 0.4040 - accuracy: 0.8115\n",
      "Epoch 24/200\n",
      "154/154 [==============================] - 0s 3ms/step - loss: 0.4043 - accuracy: 0.8117\n",
      "Epoch 25/200\n",
      "154/154 [==============================] - 0s 3ms/step - loss: 0.4039 - accuracy: 0.8123\n",
      "Epoch 26/200\n",
      "154/154 [==============================] - 0s 3ms/step - loss: 0.4031 - accuracy: 0.8119\n",
      "Epoch 27/200\n",
      "154/154 [==============================] - 0s 3ms/step - loss: 0.4029 - accuracy: 0.8125\n",
      "Epoch 28/200\n",
      "154/154 [==============================] - 0s 3ms/step - loss: 0.4023 - accuracy: 0.8123\n",
      "Epoch 29/200\n",
      "154/154 [==============================] - 0s 3ms/step - loss: 0.4018 - accuracy: 0.8151\n",
      "Epoch 30/200\n",
      "154/154 [==============================] - 0s 3ms/step - loss: 0.4013 - accuracy: 0.8143\n",
      "Epoch 31/200\n",
      "154/154 [==============================] - 0s 3ms/step - loss: 0.4004 - accuracy: 0.8141\n",
      "Epoch 32/200\n",
      "154/154 [==============================] - 0s 2ms/step - loss: 0.3998 - accuracy: 0.8127\n",
      "Epoch 33/200\n",
      "154/154 [==============================] - 0s 2ms/step - loss: 0.4003 - accuracy: 0.8127\n",
      "Epoch 34/200\n",
      "154/154 [==============================] - 0s 2ms/step - loss: 0.3995 - accuracy: 0.8125\n",
      "Epoch 35/200\n",
      "154/154 [==============================] - 0s 2ms/step - loss: 0.3992 - accuracy: 0.8129\n",
      "Epoch 36/200\n",
      "154/154 [==============================] - 0s 2ms/step - loss: 0.3993 - accuracy: 0.8163\n",
      "Epoch 37/200\n",
      "154/154 [==============================] - 0s 2ms/step - loss: 0.3988 - accuracy: 0.8143\n",
      "Epoch 38/200\n",
      "154/154 [==============================] - 0s 3ms/step - loss: 0.3983 - accuracy: 0.8155\n",
      "Epoch 39/200\n",
      "154/154 [==============================] - 0s 2ms/step - loss: 0.3979 - accuracy: 0.8151\n",
      "Epoch 40/200\n",
      "154/154 [==============================] - 0s 3ms/step - loss: 0.3979 - accuracy: 0.8149\n",
      "Epoch 41/200\n",
      "154/154 [==============================] - 0s 3ms/step - loss: 0.3979 - accuracy: 0.8139\n",
      "Epoch 42/200\n",
      "154/154 [==============================] - 0s 3ms/step - loss: 0.3974 - accuracy: 0.8145\n",
      "Epoch 43/200\n",
      "154/154 [==============================] - 0s 2ms/step - loss: 0.3972 - accuracy: 0.8141\n",
      "Epoch 44/200\n",
      "154/154 [==============================] - 0s 3ms/step - loss: 0.3968 - accuracy: 0.8145\n",
      "Epoch 45/200\n",
      "154/154 [==============================] - 0s 2ms/step - loss: 0.3970 - accuracy: 0.8141\n",
      "Epoch 46/200\n",
      "154/154 [==============================] - 0s 2ms/step - loss: 0.3962 - accuracy: 0.8143\n",
      "Epoch 47/200\n",
      "154/154 [==============================] - 0s 2ms/step - loss: 0.3959 - accuracy: 0.8135\n",
      "Epoch 48/200\n",
      "154/154 [==============================] - 0s 2ms/step - loss: 0.3962 - accuracy: 0.8174\n",
      "Epoch 49/200\n",
      "154/154 [==============================] - 0s 2ms/step - loss: 0.3950 - accuracy: 0.8115\n",
      "Epoch 50/200\n",
      "154/154 [==============================] - 0s 2ms/step - loss: 0.3957 - accuracy: 0.8139\n",
      "Epoch 51/200\n",
      "154/154 [==============================] - 0s 2ms/step - loss: 0.3948 - accuracy: 0.8157\n",
      "Epoch 52/200\n",
      "154/154 [==============================] - 0s 2ms/step - loss: 0.3954 - accuracy: 0.8161\n",
      "Epoch 53/200\n",
      "154/154 [==============================] - 0s 2ms/step - loss: 0.3946 - accuracy: 0.8163\n",
      "Epoch 54/200\n",
      "154/154 [==============================] - 0s 2ms/step - loss: 0.3945 - accuracy: 0.8127\n",
      "Epoch 55/200\n",
      "154/154 [==============================] - 0s 2ms/step - loss: 0.3946 - accuracy: 0.8129\n",
      "Epoch 56/200\n",
      "154/154 [==============================] - 0s 3ms/step - loss: 0.3938 - accuracy: 0.8157\n",
      "Epoch 57/200\n",
      "154/154 [==============================] - 0s 3ms/step - loss: 0.3942 - accuracy: 0.8157\n",
      "Epoch 58/200\n",
      "154/154 [==============================] - 0s 2ms/step - loss: 0.3942 - accuracy: 0.8167\n",
      "Epoch 59/200\n",
      "154/154 [==============================] - 0s 2ms/step - loss: 0.3938 - accuracy: 0.8186\n",
      "Epoch 60/200\n",
      "154/154 [==============================] - 0s 2ms/step - loss: 0.3935 - accuracy: 0.8151\n",
      "Epoch 61/200\n",
      "154/154 [==============================] - 0s 2ms/step - loss: 0.3933 - accuracy: 0.8182\n",
      "Epoch 62/200\n",
      "154/154 [==============================] - 0s 2ms/step - loss: 0.3926 - accuracy: 0.8176\n",
      "Epoch 63/200\n",
      "154/154 [==============================] - 0s 2ms/step - loss: 0.3930 - accuracy: 0.8151\n",
      "Epoch 64/200\n",
      "154/154 [==============================] - 0s 2ms/step - loss: 0.3927 - accuracy: 0.8178\n",
      "Epoch 65/200\n",
      "154/154 [==============================] - 0s 2ms/step - loss: 0.3923 - accuracy: 0.8178\n",
      "Epoch 66/200\n",
      "154/154 [==============================] - 0s 2ms/step - loss: 0.3925 - accuracy: 0.8178\n",
      "Epoch 67/200\n",
      "154/154 [==============================] - 0s 2ms/step - loss: 0.3919 - accuracy: 0.8157\n",
      "Epoch 68/200\n",
      "154/154 [==============================] - 0s 2ms/step - loss: 0.3915 - accuracy: 0.8167\n",
      "Epoch 69/200\n",
      "154/154 [==============================] - 0s 2ms/step - loss: 0.3920 - accuracy: 0.8153\n",
      "Epoch 70/200\n",
      "154/154 [==============================] - 0s 2ms/step - loss: 0.3918 - accuracy: 0.8178\n",
      "Epoch 71/200\n",
      "154/154 [==============================] - 0s 2ms/step - loss: 0.3910 - accuracy: 0.8157\n",
      "Epoch 72/200\n",
      "154/154 [==============================] - 0s 2ms/step - loss: 0.3903 - accuracy: 0.8165\n",
      "Epoch 73/200\n",
      "154/154 [==============================] - 0s 3ms/step - loss: 0.3909 - accuracy: 0.8165\n",
      "Epoch 74/200\n",
      "154/154 [==============================] - 0s 3ms/step - loss: 0.3907 - accuracy: 0.8169\n",
      "Epoch 75/200\n",
      "154/154 [==============================] - 0s 2ms/step - loss: 0.3902 - accuracy: 0.8178\n",
      "Epoch 76/200\n",
      "154/154 [==============================] - 0s 3ms/step - loss: 0.3900 - accuracy: 0.8167\n",
      "Epoch 77/200\n",
      "154/154 [==============================] - 0s 3ms/step - loss: 0.3899 - accuracy: 0.8176\n",
      "Epoch 78/200\n",
      "154/154 [==============================] - 0s 3ms/step - loss: 0.3898 - accuracy: 0.8196\n",
      "Epoch 79/200\n",
      "154/154 [==============================] - 0s 3ms/step - loss: 0.3892 - accuracy: 0.8178\n",
      "Epoch 80/200\n",
      "154/154 [==============================] - 0s 3ms/step - loss: 0.3890 - accuracy: 0.8151\n",
      "Epoch 81/200\n"
     ]
    },
    {
     "name": "stdout",
     "output_type": "stream",
     "text": [
      "154/154 [==============================] - 0s 3ms/step - loss: 0.3888 - accuracy: 0.8169\n",
      "Epoch 82/200\n",
      "154/154 [==============================] - 0s 3ms/step - loss: 0.3890 - accuracy: 0.8178\n",
      "Epoch 83/200\n",
      "154/154 [==============================] - 0s 3ms/step - loss: 0.3889 - accuracy: 0.8182\n",
      "Epoch 84/200\n",
      "154/154 [==============================] - 0s 3ms/step - loss: 0.3878 - accuracy: 0.8192\n",
      "Epoch 85/200\n",
      "154/154 [==============================] - 0s 3ms/step - loss: 0.3878 - accuracy: 0.8174\n",
      "Epoch 86/200\n",
      "154/154 [==============================] - 0s 2ms/step - loss: 0.3876 - accuracy: 0.8194\n",
      "Epoch 87/200\n",
      "154/154 [==============================] - 0s 2ms/step - loss: 0.3874 - accuracy: 0.8178\n",
      "Epoch 88/200\n",
      "154/154 [==============================] - 0s 2ms/step - loss: 0.3875 - accuracy: 0.8194\n",
      "Epoch 89/200\n",
      "154/154 [==============================] - 0s 2ms/step - loss: 0.3872 - accuracy: 0.8171\n",
      "Epoch 90/200\n",
      "154/154 [==============================] - 0s 2ms/step - loss: 0.3872 - accuracy: 0.8204\n",
      "Epoch 91/200\n",
      "154/154 [==============================] - 0s 2ms/step - loss: 0.3870 - accuracy: 0.8200\n",
      "Epoch 92/200\n",
      "154/154 [==============================] - 0s 2ms/step - loss: 0.3863 - accuracy: 0.8188\n",
      "Epoch 93/200\n",
      "154/154 [==============================] - 0s 2ms/step - loss: 0.3863 - accuracy: 0.8188\n",
      "Epoch 94/200\n",
      "154/154 [==============================] - 0s 2ms/step - loss: 0.3861 - accuracy: 0.8186\n",
      "Epoch 95/200\n",
      "154/154 [==============================] - 0s 2ms/step - loss: 0.3861 - accuracy: 0.8190\n",
      "Epoch 96/200\n",
      "154/154 [==============================] - 0s 2ms/step - loss: 0.3858 - accuracy: 0.8216\n",
      "Epoch 97/200\n",
      "154/154 [==============================] - 0s 2ms/step - loss: 0.3852 - accuracy: 0.8196\n",
      "Epoch 98/200\n",
      "154/154 [==============================] - 0s 2ms/step - loss: 0.3850 - accuracy: 0.8212\n",
      "Epoch 99/200\n",
      "154/154 [==============================] - 0s 2ms/step - loss: 0.3844 - accuracy: 0.8190\n",
      "Epoch 100/200\n",
      "154/154 [==============================] - 0s 2ms/step - loss: 0.3848 - accuracy: 0.8206\n",
      "Epoch 101/200\n",
      "154/154 [==============================] - 0s 2ms/step - loss: 0.3847 - accuracy: 0.8192\n",
      "Epoch 102/200\n",
      "154/154 [==============================] - 0s 2ms/step - loss: 0.3838 - accuracy: 0.8188\n",
      "Epoch 103/200\n",
      "154/154 [==============================] - 0s 3ms/step - loss: 0.3841 - accuracy: 0.8204\n",
      "Epoch 104/200\n",
      "154/154 [==============================] - 0s 2ms/step - loss: 0.3840 - accuracy: 0.8226\n",
      "Epoch 105/200\n",
      "154/154 [==============================] - 0s 2ms/step - loss: 0.3838 - accuracy: 0.8222\n",
      "Epoch 106/200\n",
      "154/154 [==============================] - 0s 2ms/step - loss: 0.3836 - accuracy: 0.8216\n",
      "Epoch 107/200\n",
      "154/154 [==============================] - 0s 2ms/step - loss: 0.3835 - accuracy: 0.8204\n",
      "Epoch 108/200\n",
      "154/154 [==============================] - 0s 2ms/step - loss: 0.3831 - accuracy: 0.8210\n",
      "Epoch 109/200\n",
      "154/154 [==============================] - 0s 2ms/step - loss: 0.3834 - accuracy: 0.8176\n",
      "Epoch 110/200\n",
      "154/154 [==============================] - 0s 2ms/step - loss: 0.3833 - accuracy: 0.8200\n",
      "Epoch 111/200\n",
      "154/154 [==============================] - 0s 2ms/step - loss: 0.3829 - accuracy: 0.8214\n",
      "Epoch 112/200\n",
      "154/154 [==============================] - 0s 2ms/step - loss: 0.3825 - accuracy: 0.8200\n",
      "Epoch 113/200\n",
      "154/154 [==============================] - 0s 2ms/step - loss: 0.3828 - accuracy: 0.8206\n",
      "Epoch 114/200\n",
      "154/154 [==============================] - 0s 2ms/step - loss: 0.3820 - accuracy: 0.8212\n",
      "Epoch 115/200\n",
      "154/154 [==============================] - 0s 2ms/step - loss: 0.3823 - accuracy: 0.8212\n",
      "Epoch 116/200\n",
      "154/154 [==============================] - 0s 2ms/step - loss: 0.3818 - accuracy: 0.8202\n",
      "Epoch 117/200\n",
      "154/154 [==============================] - 0s 2ms/step - loss: 0.3818 - accuracy: 0.8220\n",
      "Epoch 118/200\n",
      "154/154 [==============================] - 0s 2ms/step - loss: 0.3816 - accuracy: 0.8190\n",
      "Epoch 119/200\n",
      "154/154 [==============================] - 0s 2ms/step - loss: 0.3810 - accuracy: 0.8232\n",
      "Epoch 120/200\n",
      "154/154 [==============================] - 0s 3ms/step - loss: 0.3819 - accuracy: 0.8204\n",
      "Epoch 121/200\n",
      "154/154 [==============================] - 0s 2ms/step - loss: 0.3815 - accuracy: 0.8216\n",
      "Epoch 122/200\n",
      "154/154 [==============================] - 0s 2ms/step - loss: 0.3809 - accuracy: 0.8220\n",
      "Epoch 123/200\n",
      "154/154 [==============================] - 0s 2ms/step - loss: 0.3813 - accuracy: 0.8218\n",
      "Epoch 124/200\n",
      "154/154 [==============================] - 0s 2ms/step - loss: 0.3804 - accuracy: 0.8214\n",
      "Epoch 125/200\n",
      "154/154 [==============================] - 0s 2ms/step - loss: 0.3802 - accuracy: 0.8208\n",
      "Epoch 126/200\n",
      "154/154 [==============================] - 0s 2ms/step - loss: 0.3805 - accuracy: 0.8224\n",
      "Epoch 127/200\n",
      "154/154 [==============================] - 0s 2ms/step - loss: 0.3802 - accuracy: 0.8198\n",
      "Epoch 128/200\n",
      "154/154 [==============================] - 0s 2ms/step - loss: 0.3803 - accuracy: 0.8228\n",
      "Epoch 129/200\n",
      "154/154 [==============================] - 0s 2ms/step - loss: 0.3791 - accuracy: 0.8204\n",
      "Epoch 130/200\n",
      "154/154 [==============================] - 0s 2ms/step - loss: 0.3797 - accuracy: 0.8206\n",
      "Epoch 131/200\n",
      "154/154 [==============================] - 0s 2ms/step - loss: 0.3802 - accuracy: 0.8216\n",
      "Epoch 132/200\n",
      "154/154 [==============================] - 0s 2ms/step - loss: 0.3793 - accuracy: 0.8228\n",
      "Epoch 133/200\n",
      "154/154 [==============================] - 0s 2ms/step - loss: 0.3790 - accuracy: 0.8212\n",
      "Epoch 134/200\n",
      "154/154 [==============================] - 0s 2ms/step - loss: 0.3787 - accuracy: 0.8241\n",
      "Epoch 135/200\n",
      "154/154 [==============================] - 0s 2ms/step - loss: 0.3784 - accuracy: 0.8234\n",
      "Epoch 136/200\n",
      "154/154 [==============================] - 0s 2ms/step - loss: 0.3791 - accuracy: 0.8228\n",
      "Epoch 137/200\n",
      "154/154 [==============================] - 0s 2ms/step - loss: 0.3786 - accuracy: 0.8236\n",
      "Epoch 138/200\n",
      "154/154 [==============================] - 0s 2ms/step - loss: 0.3785 - accuracy: 0.8224\n",
      "Epoch 139/200\n",
      "154/154 [==============================] - 0s 2ms/step - loss: 0.3777 - accuracy: 0.8218\n",
      "Epoch 140/200\n",
      "154/154 [==============================] - 0s 2ms/step - loss: 0.3782 - accuracy: 0.8236\n",
      "Epoch 141/200\n",
      "154/154 [==============================] - 0s 2ms/step - loss: 0.3784 - accuracy: 0.8228\n",
      "Epoch 142/200\n",
      "154/154 [==============================] - 0s 2ms/step - loss: 0.3780 - accuracy: 0.8263\n",
      "Epoch 143/200\n",
      "154/154 [==============================] - 0s 2ms/step - loss: 0.3777 - accuracy: 0.8216\n",
      "Epoch 144/200\n",
      "154/154 [==============================] - 0s 2ms/step - loss: 0.3778 - accuracy: 0.8241\n",
      "Epoch 145/200\n",
      "154/154 [==============================] - 0s 2ms/step - loss: 0.3777 - accuracy: 0.8220\n",
      "Epoch 146/200\n",
      "154/154 [==============================] - 0s 2ms/step - loss: 0.3776 - accuracy: 0.8232\n",
      "Epoch 147/200\n",
      "154/154 [==============================] - 0s 2ms/step - loss: 0.3778 - accuracy: 0.8245\n",
      "Epoch 148/200\n",
      "154/154 [==============================] - 0s 2ms/step - loss: 0.3774 - accuracy: 0.8245\n",
      "Epoch 149/200\n",
      "154/154 [==============================] - 0s 2ms/step - loss: 0.3771 - accuracy: 0.8251\n",
      "Epoch 150/200\n",
      "154/154 [==============================] - 0s 2ms/step - loss: 0.3773 - accuracy: 0.8216\n",
      "Epoch 151/200\n",
      "154/154 [==============================] - 0s 2ms/step - loss: 0.3769 - accuracy: 0.8196\n",
      "Epoch 152/200\n",
      "154/154 [==============================] - 0s 2ms/step - loss: 0.3770 - accuracy: 0.8243\n",
      "Epoch 153/200\n",
      "154/154 [==============================] - 0s 2ms/step - loss: 0.3764 - accuracy: 0.8239\n",
      "Epoch 154/200\n",
      "154/154 [==============================] - 0s 2ms/step - loss: 0.3763 - accuracy: 0.8247\n",
      "Epoch 155/200\n",
      "154/154 [==============================] - 0s 2ms/step - loss: 0.3764 - accuracy: 0.8216\n",
      "Epoch 156/200\n",
      "154/154 [==============================] - 0s 2ms/step - loss: 0.3762 - accuracy: 0.8243\n",
      "Epoch 157/200\n",
      "154/154 [==============================] - 0s 2ms/step - loss: 0.3761 - accuracy: 0.8253\n",
      "Epoch 158/200\n",
      "154/154 [==============================] - 0s 2ms/step - loss: 0.3761 - accuracy: 0.8253\n",
      "Epoch 159/200\n",
      "154/154 [==============================] - 0s 2ms/step - loss: 0.3762 - accuracy: 0.8206\n",
      "Epoch 160/200\n"
     ]
    },
    {
     "name": "stdout",
     "output_type": "stream",
     "text": [
      "154/154 [==============================] - 0s 2ms/step - loss: 0.3754 - accuracy: 0.8253\n",
      "Epoch 161/200\n",
      "154/154 [==============================] - 0s 2ms/step - loss: 0.3753 - accuracy: 0.8247\n",
      "Epoch 162/200\n",
      "154/154 [==============================] - 0s 2ms/step - loss: 0.3754 - accuracy: 0.8253\n",
      "Epoch 163/200\n",
      "154/154 [==============================] - 0s 2ms/step - loss: 0.3752 - accuracy: 0.8259\n",
      "Epoch 164/200\n",
      "154/154 [==============================] - 0s 2ms/step - loss: 0.3749 - accuracy: 0.8228\n",
      "Epoch 165/200\n",
      "154/154 [==============================] - 0s 2ms/step - loss: 0.3737 - accuracy: 0.8243\n",
      "Epoch 166/200\n",
      "154/154 [==============================] - 0s 2ms/step - loss: 0.3750 - accuracy: 0.8241\n",
      "Epoch 167/200\n",
      "154/154 [==============================] - 0s 2ms/step - loss: 0.3743 - accuracy: 0.8236\n",
      "Epoch 168/200\n",
      "154/154 [==============================] - 0s 2ms/step - loss: 0.3748 - accuracy: 0.8249\n",
      "Epoch 169/200\n",
      "154/154 [==============================] - 0s 2ms/step - loss: 0.3742 - accuracy: 0.8251\n",
      "Epoch 170/200\n",
      "154/154 [==============================] - 0s 2ms/step - loss: 0.3743 - accuracy: 0.8245\n",
      "Epoch 171/200\n",
      "154/154 [==============================] - 0s 2ms/step - loss: 0.3736 - accuracy: 0.8232\n",
      "Epoch 172/200\n",
      "154/154 [==============================] - 0s 2ms/step - loss: 0.3739 - accuracy: 0.8269\n",
      "Epoch 173/200\n",
      "154/154 [==============================] - 0s 3ms/step - loss: 0.3736 - accuracy: 0.8251\n",
      "Epoch 174/200\n",
      "154/154 [==============================] - 0s 2ms/step - loss: 0.3736 - accuracy: 0.8245\n",
      "Epoch 175/200\n",
      "154/154 [==============================] - 0s 2ms/step - loss: 0.3735 - accuracy: 0.8259\n",
      "Epoch 176/200\n",
      "154/154 [==============================] - 0s 2ms/step - loss: 0.3736 - accuracy: 0.8247\n",
      "Epoch 177/200\n",
      "154/154 [==============================] - 0s 2ms/step - loss: 0.3731 - accuracy: 0.8243\n",
      "Epoch 178/200\n",
      "154/154 [==============================] - 0s 2ms/step - loss: 0.3732 - accuracy: 0.8245\n",
      "Epoch 179/200\n",
      "154/154 [==============================] - 0s 2ms/step - loss: 0.3727 - accuracy: 0.8249\n",
      "Epoch 180/200\n",
      "154/154 [==============================] - 0s 2ms/step - loss: 0.3729 - accuracy: 0.8265\n",
      "Epoch 181/200\n",
      "154/154 [==============================] - 0s 3ms/step - loss: 0.3725 - accuracy: 0.8234\n",
      "Epoch 182/200\n",
      "154/154 [==============================] - 0s 2ms/step - loss: 0.3722 - accuracy: 0.8239\n",
      "Epoch 183/200\n",
      "154/154 [==============================] - 0s 2ms/step - loss: 0.3728 - accuracy: 0.8243\n",
      "Epoch 184/200\n",
      "154/154 [==============================] - 0s 2ms/step - loss: 0.3722 - accuracy: 0.8255\n",
      "Epoch 185/200\n",
      "154/154 [==============================] - 0s 2ms/step - loss: 0.3722 - accuracy: 0.8259\n",
      "Epoch 186/200\n",
      "154/154 [==============================] - 0s 2ms/step - loss: 0.3717 - accuracy: 0.8283\n",
      "Epoch 187/200\n",
      "154/154 [==============================] - 0s 2ms/step - loss: 0.3715 - accuracy: 0.8251\n",
      "Epoch 188/200\n",
      "154/154 [==============================] - 0s 2ms/step - loss: 0.3718 - accuracy: 0.8255\n",
      "Epoch 189/200\n",
      "154/154 [==============================] - 0s 2ms/step - loss: 0.3720 - accuracy: 0.8267\n",
      "Epoch 190/200\n",
      "154/154 [==============================] - 0s 2ms/step - loss: 0.3717 - accuracy: 0.8263\n",
      "Epoch 191/200\n",
      "154/154 [==============================] - 0s 2ms/step - loss: 0.3712 - accuracy: 0.8236\n",
      "Epoch 192/200\n",
      "154/154 [==============================] - 0s 2ms/step - loss: 0.3715 - accuracy: 0.8283\n",
      "Epoch 193/200\n",
      "154/154 [==============================] - 0s 2ms/step - loss: 0.3703 - accuracy: 0.8251\n",
      "Epoch 194/200\n",
      "154/154 [==============================] - 0s 2ms/step - loss: 0.3702 - accuracy: 0.8281\n",
      "Epoch 195/200\n",
      "154/154 [==============================] - 0s 2ms/step - loss: 0.3707 - accuracy: 0.8261\n",
      "Epoch 196/200\n",
      "154/154 [==============================] - 0s 2ms/step - loss: 0.3705 - accuracy: 0.8251\n",
      "Epoch 197/200\n",
      "154/154 [==============================] - 0s 2ms/step - loss: 0.3702 - accuracy: 0.8279\n",
      "Epoch 198/200\n",
      "154/154 [==============================] - 0s 2ms/step - loss: 0.3703 - accuracy: 0.8287\n",
      "Epoch 199/200\n",
      "154/154 [==============================] - 0s 2ms/step - loss: 0.3697 - accuracy: 0.8291\n",
      "Epoch 200/200\n",
      "154/154 [==============================] - 0s 2ms/step - loss: 0.3699 - accuracy: 0.8275\n"
     ]
    },
    {
     "data": {
      "text/plain": [
       "<keras.src.callbacks.History at 0x1bb84ddf8d0>"
      ]
     },
     "execution_count": 10,
     "metadata": {},
     "output_type": "execute_result"
    }
   ],
   "source": [
    "model.fit(X_train,y_train,epochs=200)"
   ]
  },
  {
   "cell_type": "code",
   "execution_count": 11,
   "id": "6c0354a5",
   "metadata": {},
   "outputs": [
    {
     "name": "stdout",
     "output_type": "stream",
     "text": [
      "66/66 [==============================] - 0s 2ms/step - loss: 0.4395 - accuracy: 0.7905\n"
     ]
    },
    {
     "data": {
      "text/plain": [
       "[0.43954765796661377, 0.7905213236808777]"
      ]
     },
     "execution_count": 11,
     "metadata": {},
     "output_type": "execute_result"
    }
   ],
   "source": [
    "model.evaluate(X_test,y_test)"
   ]
  },
  {
   "cell_type": "code",
   "execution_count": 12,
   "id": "ac030b6c",
   "metadata": {},
   "outputs": [
    {
     "name": "stdout",
     "output_type": "stream",
     "text": [
      "66/66 [==============================] - 0s 1ms/step\n"
     ]
    }
   ],
   "source": [
    "pred = model.predict(X_test)"
   ]
  },
  {
   "cell_type": "code",
   "execution_count": 19,
   "id": "597d1b3a",
   "metadata": {},
   "outputs": [],
   "source": [
    "y_pred = []\n",
    "for val in pred:\n",
    "    if val < 0.5:\n",
    "        y_pred.append(0)\n",
    "    elif val > 0.5:\n",
    "        y_pred.append(1)"
   ]
  },
  {
   "cell_type": "code",
   "execution_count": 22,
   "id": "7b09f3d4",
   "metadata": {},
   "outputs": [
    {
     "data": {
      "text/plain": [
       "[1, 0, 0, 1, 0, 0, 1, 0, 1, 1]"
      ]
     },
     "execution_count": 22,
     "metadata": {},
     "output_type": "execute_result"
    }
   ],
   "source": [
    "y_pred[:10]"
   ]
  },
  {
   "cell_type": "code",
   "execution_count": 23,
   "id": "cead8303",
   "metadata": {},
   "outputs": [
    {
     "data": {
      "text/plain": [
       "4253    0\n",
       "2914    0\n",
       "1569    0\n",
       "5227    0\n",
       "4427    0\n",
       "5879    0\n",
       "155     0\n",
       "109     0\n",
       "5023    1\n",
       "5257    1\n",
       "Name: Churn, dtype: int64"
      ]
     },
     "execution_count": 23,
     "metadata": {},
     "output_type": "execute_result"
    }
   ],
   "source": [
    "y_test[:10]"
   ]
  },
  {
   "cell_type": "code",
   "execution_count": 24,
   "id": "b07654f0",
   "metadata": {},
   "outputs": [],
   "source": [
    "from sklearn.metrics import classification_report , confusion_matrix"
   ]
  },
  {
   "cell_type": "code",
   "execution_count": 25,
   "id": "f5373d41",
   "metadata": {},
   "outputs": [
    {
     "name": "stdout",
     "output_type": "stream",
     "text": [
      "              precision    recall  f1-score   support\n",
      "\n",
      "           0       0.85      0.87      0.86      1580\n",
      "           1       0.59      0.55      0.57       530\n",
      "\n",
      "    accuracy                           0.79      2110\n",
      "   macro avg       0.72      0.71      0.72      2110\n",
      "weighted avg       0.79      0.79      0.79      2110\n",
      "\n"
     ]
    }
   ],
   "source": [
    "print(classification_report(y_test,y_pred))"
   ]
  },
  {
   "cell_type": "code",
   "execution_count": 26,
   "id": "ccdbc49e",
   "metadata": {},
   "outputs": [
    {
     "name": "stdout",
     "output_type": "stream",
     "text": [
      "[[1377  203]\n",
      " [ 239  291]]\n"
     ]
    }
   ],
   "source": [
    "print(confusion_matrix(y_test,y_pred))"
   ]
  }
 ],
 "metadata": {
  "kernelspec": {
   "display_name": "Python 3 (ipykernel)",
   "language": "python",
   "name": "python3"
  },
  "language_info": {
   "codemirror_mode": {
    "name": "ipython",
    "version": 3
   },
   "file_extension": ".py",
   "mimetype": "text/x-python",
   "name": "python",
   "nbconvert_exporter": "python",
   "pygments_lexer": "ipython3",
   "version": "3.11.3"
  }
 },
 "nbformat": 4,
 "nbformat_minor": 5
}
